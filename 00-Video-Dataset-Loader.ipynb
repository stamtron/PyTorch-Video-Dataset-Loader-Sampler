{
 "cells": [
  {
   "cell_type": "code",
   "execution_count": 3,
   "metadata": {
    "scrolled": true
   },
   "outputs": [
    {
     "name": "stdout",
     "output_type": "stream",
     "text": [
      "Collecting git+https://github.com/hassony2/torch_videovision\n",
      "  Cloning https://github.com/hassony2/torch_videovision to /tmp/pip-req-build-cvio1xhh\n",
      "  Running command git clone --filter=blob:none --quiet https://github.com/hassony2/torch_videovision /tmp/pip-req-build-cvio1xhh\n",
      "  Resolved https://github.com/hassony2/torch_videovision to commit 785a810d1df2ccab6901fb98b38e358433e7b17a\n",
      "  Preparing metadata (setup.py) ... \u001b[?25ldone\n",
      "\u001b[?25hRequirement already satisfied: torch in /home/astamoulakatos/.conda/envs/cmac/lib/python3.8/site-packages (from torchvideotransforms==0.1.2) (1.13.0)\n",
      "Requirement already satisfied: torchvision in /home/astamoulakatos/.conda/envs/cmac/lib/python3.8/site-packages (from torchvideotransforms==0.1.2) (0.14.0)\n",
      "Requirement already satisfied: scikit-image in /home/astamoulakatos/.local/lib/python3.8/site-packages (from torchvideotransforms==0.1.2) (0.18.2)\n",
      "Requirement already satisfied: opencv-python in /home/astamoulakatos/.conda/envs/cmac/lib/python3.8/site-packages (from torchvideotransforms==0.1.2) (4.5.5.64)\n",
      "Requirement already satisfied: numpy>=1.17.3 in /home/astamoulakatos/.local/lib/python3.8/site-packages (from opencv-python->torchvideotransforms==0.1.2) (1.21.1)\n",
      "Requirement already satisfied: networkx>=2.0 in /home/astamoulakatos/.conda/envs/cmac/lib/python3.8/site-packages (from scikit-image->torchvideotransforms==0.1.2) (2.2)\n",
      "Requirement already satisfied: tifffile>=2019.7.26 in /home/astamoulakatos/.local/lib/python3.8/site-packages (from scikit-image->torchvideotransforms==0.1.2) (2021.7.30)\n",
      "Requirement already satisfied: matplotlib!=3.0.0,>=2.0.0 in /home/astamoulakatos/.conda/envs/cmac/lib/python3.8/site-packages (from scikit-image->torchvideotransforms==0.1.2) (3.6.2)\n",
      "Requirement already satisfied: imageio>=2.3.0 in /home/astamoulakatos/.local/lib/python3.8/site-packages (from scikit-image->torchvideotransforms==0.1.2) (2.9.0)\n",
      "Requirement already satisfied: scipy>=1.0.1 in /home/astamoulakatos/.conda/envs/cmac/lib/python3.8/site-packages (from scikit-image->torchvideotransforms==0.1.2) (1.9.1)\n",
      "Requirement already satisfied: pillow!=7.1.0,!=7.1.1,>=4.3.0 in /home/astamoulakatos/.conda/envs/cmac/lib/python3.8/site-packages (from scikit-image->torchvideotransforms==0.1.2) (9.2.0)\n",
      "Requirement already satisfied: PyWavelets>=1.1.1 in /home/astamoulakatos/.local/lib/python3.8/site-packages (from scikit-image->torchvideotransforms==0.1.2) (1.1.1)\n",
      "Requirement already satisfied: nvidia-cudnn-cu11==8.5.0.96 in /home/astamoulakatos/.conda/envs/cmac/lib/python3.8/site-packages (from torch->torchvideotransforms==0.1.2) (8.5.0.96)\n",
      "Requirement already satisfied: typing-extensions in /home/astamoulakatos/.conda/envs/cmac/lib/python3.8/site-packages (from torch->torchvideotransforms==0.1.2) (4.1.1)\n",
      "Requirement already satisfied: nvidia-cublas-cu11==11.10.3.66 in /home/astamoulakatos/.conda/envs/cmac/lib/python3.8/site-packages (from torch->torchvideotransforms==0.1.2) (11.10.3.66)\n",
      "Requirement already satisfied: nvidia-cuda-runtime-cu11==11.7.99 in /home/astamoulakatos/.conda/envs/cmac/lib/python3.8/site-packages (from torch->torchvideotransforms==0.1.2) (11.7.99)\n",
      "Requirement already satisfied: nvidia-cuda-nvrtc-cu11==11.7.99 in /home/astamoulakatos/.conda/envs/cmac/lib/python3.8/site-packages (from torch->torchvideotransforms==0.1.2) (11.7.99)\n",
      "Requirement already satisfied: setuptools in /home/astamoulakatos/.conda/envs/cmac/lib/python3.8/site-packages (from nvidia-cublas-cu11==11.10.3.66->torch->torchvideotransforms==0.1.2) (63.4.2)\n",
      "Requirement already satisfied: wheel in /home/astamoulakatos/.conda/envs/cmac/lib/python3.8/site-packages (from nvidia-cublas-cu11==11.10.3.66->torch->torchvideotransforms==0.1.2) (0.34.2)\n",
      "Requirement already satisfied: requests in /home/astamoulakatos/.conda/envs/cmac/lib/python3.8/site-packages (from torchvision->torchvideotransforms==0.1.2) (2.27.1)\n",
      "Requirement already satisfied: cycler>=0.10 in /home/astamoulakatos/.local/lib/python3.8/site-packages (from matplotlib!=3.0.0,>=2.0.0->scikit-image->torchvideotransforms==0.1.2) (0.10.0)\n",
      "Requirement already satisfied: kiwisolver>=1.0.1 in /home/astamoulakatos/.local/lib/python3.8/site-packages (from matplotlib!=3.0.0,>=2.0.0->scikit-image->torchvideotransforms==0.1.2) (1.3.1)\n",
      "Requirement already satisfied: python-dateutil>=2.7 in /home/astamoulakatos/.conda/envs/cmac/lib/python3.8/site-packages (from matplotlib!=3.0.0,>=2.0.0->scikit-image->torchvideotransforms==0.1.2) (2.8.2)\n",
      "Requirement already satisfied: fonttools>=4.22.0 in /home/astamoulakatos/.conda/envs/cmac/lib/python3.8/site-packages (from matplotlib!=3.0.0,>=2.0.0->scikit-image->torchvideotransforms==0.1.2) (4.34.4)\n",
      "Requirement already satisfied: packaging>=20.0 in /home/astamoulakatos/.conda/envs/cmac/lib/python3.8/site-packages (from matplotlib!=3.0.0,>=2.0.0->scikit-image->torchvideotransforms==0.1.2) (21.3)\n",
      "Requirement already satisfied: contourpy>=1.0.1 in /home/astamoulakatos/.conda/envs/cmac/lib/python3.8/site-packages (from matplotlib!=3.0.0,>=2.0.0->scikit-image->torchvideotransforms==0.1.2) (1.0.6)\n",
      "Requirement already satisfied: pyparsing>=2.2.1 in /home/astamoulakatos/.local/lib/python3.8/site-packages (from matplotlib!=3.0.0,>=2.0.0->scikit-image->torchvideotransforms==0.1.2) (2.4.7)\n",
      "Requirement already satisfied: decorator>=4.3.0 in /home/astamoulakatos/.conda/envs/cmac/lib/python3.8/site-packages (from networkx>=2.0->scikit-image->torchvideotransforms==0.1.2) (5.1.1)\n",
      "Requirement already satisfied: idna<4,>=2.5 in /home/astamoulakatos/.conda/envs/cmac/lib/python3.8/site-packages (from requests->torchvision->torchvideotransforms==0.1.2) (3.3)\n",
      "Requirement already satisfied: charset-normalizer~=2.0.0 in /home/astamoulakatos/.conda/envs/cmac/lib/python3.8/site-packages (from requests->torchvision->torchvideotransforms==0.1.2) (2.0.4)\n",
      "Requirement already satisfied: certifi>=2017.4.17 in /home/astamoulakatos/.conda/envs/cmac/lib/python3.8/site-packages (from requests->torchvision->torchvideotransforms==0.1.2) (2022.5.18.1)\n",
      "Requirement already satisfied: urllib3<1.27,>=1.21.1 in /home/astamoulakatos/.conda/envs/cmac/lib/python3.8/site-packages (from requests->torchvision->torchvideotransforms==0.1.2) (1.26.9)\n",
      "Requirement already satisfied: six in /home/astamoulakatos/.conda/envs/cmac/lib/python3.8/site-packages (from cycler>=0.10->matplotlib!=3.0.0,>=2.0.0->scikit-image->torchvideotransforms==0.1.2) (1.16.0)\n"
     ]
    }
   ],
   "source": [
    "#!pip install git+https://github.com/hassony2/torch_videovision"
   ]
  },
  {
   "cell_type": "code",
   "execution_count": 5,
   "metadata": {},
   "outputs": [
    {
     "name": "stdout",
     "output_type": "stream",
     "text": [
      "Collecting vidaug\n",
      "  Downloading vidaug-1.5-py3-none-any.whl (13 kB)\n",
      "Installing collected packages: vidaug\n",
      "Successfully installed vidaug-1.5\n"
     ]
    }
   ],
   "source": [
    "#!pip install vidaug"
   ]
  },
  {
   "cell_type": "code",
   "execution_count": 42,
   "metadata": {},
   "outputs": [],
   "source": [
    "from video_dataset import*\n",
    "from transforms import *"
   ]
  },
  {
   "cell_type": "code",
   "execution_count": 44,
   "metadata": {},
   "outputs": [
    {
     "name": "stdout",
     "output_type": "stream",
     "text": [
      "Files and Directories in '/media/hdd2/astamoulakatos/PHD/datasets/archive/TrackingDataset/':\n"
     ]
    }
   ],
   "source": [
    "root_dir = '/media/hdd2/astamoulakatos/PHD/datasets/archive/TrackingDataset/'\n",
    " \n",
    "obj = os.scandir(root_dir)\n",
    " \n",
    "# List all directories in the specified path\n",
    "print(\"Files and Directories in '% s':\" % root_dir)\n",
    "class_paths = []\n",
    "for entry in obj :\n",
    "    if entry.is_dir():\n",
    "        class_paths.append(entry.path)\n",
    "        #print(entry.path)"
   ]
  },
  {
   "cell_type": "code",
   "execution_count": 45,
   "metadata": {},
   "outputs": [],
   "source": [
    "class_image_paths = []\n",
    "end_idx = []\n",
    "for c, class_path in enumerate(class_paths):\n",
    "    for d in os.scandir(class_path):\n",
    "        if d.is_dir:\n",
    "            paths = sorted(glob.glob(os.path.join(d.path, '*.jpg')))\n",
    "            # Add class idx to paths\n",
    "            paths = [(p, c) for p in paths]\n",
    "            class_image_paths.extend(paths)\n",
    "            end_idx.extend([len(paths)])\n",
    "\n",
    "end_idx = [0, *end_idx]\n",
    "end_idx = torch.cumsum(torch.tensor(end_idx), 0)\n",
    "seq_length = 16\n",
    "\n",
    "sampler = MySampler(end_idx, seq_length)\n",
    "\n",
    "tensor_transform = get_tensor_transform('ImageNet', False)\n",
    "train_spat_transform = get_spatial_transform(2)\n",
    "train_temp_transform = get_temporal_transform()\n",
    "valid_spat_transform = get_spatial_transform(0)\n",
    "valid_temp_transform = va.TemporalFit(size=16)"
   ]
  },
  {
   "cell_type": "code",
   "execution_count": 51,
   "metadata": {},
   "outputs": [],
   "source": [
    "dataset = MyDataset(\n",
    "        image_paths = class_image_paths,\n",
    "        seq_length = seq_length,\n",
    "        temp_transform = train_temp_transform,\n",
    "        spat_transform = train_spat_transform,\n",
    "        tensor_transform = tensor_transform,\n",
    "        length = len(sampler),\n",
    "        lstm = False,\n",
    "        oned = False,\n",
    "        augment = False,\n",
    "        multi = 1)"
   ]
  },
  {
   "cell_type": "code",
   "execution_count": 50,
   "metadata": {
    "scrolled": true
   },
   "outputs": [],
   "source": [
    "loader = DataLoader(\n",
    "        dataset,\n",
    "        batch_size = 1,\n",
    "        sampler = sampler,\n",
    "        drop_last = True,\n",
    "        num_workers = 0)  "
   ]
  },
  {
   "cell_type": "code",
   "execution_count": 49,
   "metadata": {},
   "outputs": [
    {
     "name": "stdout",
     "output_type": "stream",
     "text": [
      "torch.Size([1, 3, 16, 480, 640])\n",
      "torch.Size([1, 3, 16, 240, 320])\n",
      "torch.Size([1, 3, 16, 480, 640])\n",
      "torch.Size([1, 3, 16, 240, 320])\n",
      "torch.Size([1, 3, 16, 480, 640])\n",
      "torch.Size([1, 3, 16, 240, 320])\n"
     ]
    }
   ],
   "source": [
    "for counter, data in enumerate(loader):\n",
    "    print(data[0].shape)\n",
    "    if counter==5:\n",
    "        break"
   ]
  },
  {
   "cell_type": "code",
   "execution_count": null,
   "metadata": {},
   "outputs": [],
   "source": []
  }
 ],
 "metadata": {
  "kernelspec": {
   "display_name": "Python 3",
   "language": "python",
   "name": "python3"
  },
  "language_info": {
   "codemirror_mode": {
    "name": "ipython",
    "version": 3
   },
   "file_extension": ".py",
   "mimetype": "text/x-python",
   "name": "python",
   "nbconvert_exporter": "python",
   "pygments_lexer": "ipython3",
   "version": "3.8.3"
  }
 },
 "nbformat": 4,
 "nbformat_minor": 4
}
